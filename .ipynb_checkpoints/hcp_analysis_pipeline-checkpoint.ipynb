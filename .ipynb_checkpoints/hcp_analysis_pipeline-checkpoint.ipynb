{
 "cells": [
  {
   "cell_type": "code",
   "execution_count": null,
   "metadata": {
    "collapsed": true
   },
   "outputs": [],
   "source": [
    "%matplotlib inline\n",
    "import numpy as np\n",
    "import matplotlib.pyplot as plt\n",
    "import nibabel as nib\n",
    "import nilearn as nil\n",
    "import os, re, glob, commands\n",
    "import nipype.interfaces.fsl as fsl\n",
    "from os.path import join\n",
    "\n",
    "import nipype\n",
    "from nipype.interfaces.spm import SliceTiming, Realign, Normalize12, Coregister, Smooth, Segment\n",
    "from nipype.interfaces.utility import IdentityInterface\n",
    "from nipype.interfaces.io import SelectFiles, DataSink\n",
    "from nipype.algorithms.rapidart import ArtifactDetect\n",
    "from nipype.algorithms.misc import Gunzip\n",
    "from nipype.pipeline.engine import Workflow, Node\n",
    "from nipype.interfaces.fsl import BET\n",
    "import nipype.interfaces.spm as spm\n",
    "import nipype.interfaces.fsl as fsl\n",
    "from nipype.interfaces.fsl import maths\n",
    "from nipype.pipeline.engine import Workflow, Node, MapNode\n",
    "\n",
    "from nipype.interfaces.matlab import MatlabCommand\n",
    "MatlabCommand.set_default_matlab_cmd('/usr/local/matlab/R2016b/bin/matlab')"
   ]
  },
  {
   "cell_type": "markdown",
   "metadata": {},
   "source": [
    "### variables"
   ]
  },
  {
   "cell_type": "code",
   "execution_count": null,
   "metadata": {
    "collapsed": true
   },
   "outputs": [],
   "source": [
    "experiment_dir = '/imaging/jerez/obi/hcp/'\n",
    "data_dir = join(experiment_dir, 'data')\n",
    "\n",
    "subject_list = ['114217','118023','119833','120111','120515','122418','123117','129028','130114','131823',\n",
    "                '117021','118528','120010','120414','121416','122620','125222','130013','130417','133625']\n",
    "\n",
    "# What is the name of your working directory and output folder\n",
    "output_dir =  'output_firstSteps'\n",
    "working_dir = 'workingdir_firstSteps'\n",
    "\n",
    "# What are experiment specific parameters\n",
    "number_of_slices = 72  \n",
    "TR = 0.72                              \n",
    "smoothing_size = 5\n",
    "template = '/imaging/jerez/software/spm12/tpm/TPM.nii'"
   ]
  },
  {
   "cell_type": "markdown",
   "metadata": {},
   "source": [
    "#### helper functions"
   ]
  },
  {
   "cell_type": "code",
   "execution_count": null,
   "metadata": {
    "collapsed": true
   },
   "outputs": [],
   "source": [
    "def plot_slice(fname):\n",
    "    img = nib.load(fname)\n",
    "    data = img.get_data()\n",
    "    plt.imshow(np.rot90(data[:,:,int(data.shape[-1]/2)]),cmap='gray')\n",
    "    plt.gca().set_axis_off()"
   ]
  },
  {
   "cell_type": "markdown",
   "metadata": {},
   "source": [
    "### nodes"
   ]
  },
  {
   "cell_type": "code",
   "execution_count": null,
   "metadata": {
    "collapsed": true
   },
   "outputs": [],
   "source": [
    "# Gunzip - unzip functional\n",
    "gunzip = MapNode(Gunzip(), iterfield = ['in_file'],name=\"gunzip\")\n",
    "\n",
    "# Slicetiming - correct for slice wise acquisition\n",
    "interleaved_order = range(1,number_of_slices+1,2) + range(2,number_of_slices+1,2)\n",
    "sliceTiming = Node(SliceTiming(num_slices=number_of_slices,\n",
    "                               time_repetition=TR,\n",
    "                               time_acquisition=TR-TR/number_of_slices,\n",
    "                               slice_order=interleaved_order,\n",
    "                               ref_slice=2),\n",
    "                   name=\"sliceTiming\")\n",
    "\n",
    "# Realign - correct for motion\n",
    "realign = Node(Realign(register_to_mean=True),\n",
    "               name=\"realign\")\n",
    "\n",
    "# Artifact Detection - determine which of the images in the functional series\n",
    "#   are outliers. This is based on deviation in intensity or movement.\n",
    "art = Node(ArtifactDetect(norm_threshold=1,\n",
    "                          zintensity_threshold=3,\n",
    "                          mask_type='spm_global',\n",
    "                          parameter_source='SPM'),\n",
    "           name=\"art\")\n",
    "\n",
    "coregister = Node(Coregister(), name = 'coregister')\n",
    "coregister.inputs.jobtype = 'estimate'\n",
    "\n",
    "# Smooth - to smooth the images with a given kernel\n",
    "smooth = Node(Smooth(fwhm=smoothing_size),\n",
    "              name=\"smooth\")\n",
    "\n",
    "# Gunzip - unzip the structural image\n",
    "gunzip_struct = Node(Gunzip(), name=\"gunzip_struct\")\n",
    "\n",
    "# Normalize - normalizes functional and structural images to the MNI template\n",
    "normalize = Node(Normalize12(jobtype='estwrite',\n",
    "                             tpm=template,\n",
    "                             write_voxel_sizes=[1, 1, 1]),\n",
    "                 name=\"normalize\")\n",
    "\n",
    "segment = Node(Segment(), name = 'segment')\n",
    "segment.inputs.gm_output_type = [True, True, True]\n",
    "segment.inputs.wm_output_type = [True, True, False]\n",
    "segment.inputs.csf_output_type = [True, True, False]"
   ]
  },
  {
   "cell_type": "markdown",
   "metadata": {
    "collapsed": true
   },
   "source": [
    "#### Pipeline"
   ]
  },
  {
   "cell_type": "code",
   "execution_count": null,
   "metadata": {
    "collapsed": true
   },
   "outputs": [],
   "source": [
    "# Create a preprocessing workflow\n",
    "preproc = Workflow(name='preproc')\n",
    "preproc.base_dir = join(experiment_dir, working_dir)\n",
    "\n",
    "# Connect all components of the preprocessing workflow\n",
    "preproc.connect([(gunzip, sliceTiming, [('out_file', 'in_files')]),\n",
    "                 (sliceTiming, realign, [('timecorrected_files', 'in_files')]),\n",
    "                 (realign,coregister,[('mean_image', 'source'),\n",
    "                                      #('realigned_files','apply_to_files')]),\n",
    "                                      ('modified_in_files','apply_to_files')]),\n",
    "                 (gunzip_struct, coregister, [('out_file', 'target')]),\n",
    "                 (gunzip_struct, normalize, [('out_file', 'image_to_align')]),\n",
    "                 (coregister, normalize, [('coregistered_files','apply_to_files')]),\n",
    "                 (normalize, smooth, [('normalized_files', 'in_files')])\n",
    "                 ])\n",
    "                \n",
    "#                  (gunzip_struct, normalize, [('out_file', 'image_to_align')]),\n",
    "#                  (normalize, segment, [('normalized_files','data')])\n",
    "#                  ])"
   ]
  },
  {
   "cell_type": "code",
   "execution_count": null,
   "metadata": {
    "collapsed": true
   },
   "outputs": [],
   "source": [
    "# Infosource - a function free node to iterate over the list of subject names\n",
    "infosource = Node(IdentityInterface(fields=['subject_id']),\n",
    "                  name=\"infosource\")\n",
    "infosource.iterables = [('subject_id', subject_list)]\n",
    "\n",
    "# SelectFiles\n",
    "templates = {'func': 'data/{subject_id}/unprocessed/3T/rfMRI_REST1_LR/{subject_id}_3T_rfMRI_REST1_LR.nii.gz',\n",
    "             'anat': 'data/{subject_id}/T1w/T1w_acpc_dc.nii.gz'}\n",
    "selectfiles = Node(SelectFiles(templates,\n",
    "                               base_directory=experiment_dir),\n",
    "                      name=\"selectfiles\")\n",
    "\n",
    "# Datasink\n",
    "datasink = Node(DataSink(base_directory=experiment_dir,\n",
    "                         container=output_dir),\n",
    "                name=\"datasink\")\n",
    "\n",
    "# Use the following DataSink output substitutions\n",
    "substitutions = [('_subject_id', '')]\n",
    "datasink.inputs.substitutions = substitutions\n",
    "\n",
    "# Connect SelectFiles and DataSink to the workflow\n",
    "preproc.connect([(infosource, selectfiles, [('subject_id', 'subject_id')]),\n",
    "                 (selectfiles, gunzip, [('func', 'in_file')]),\n",
    "                 (selectfiles, gunzip_struct, [('anat', 'in_file')]),\n",
    "                 (realign, datasink, [('mean_image', 'realign.@mean'),\n",
    "                                      ('realignment_parameters',\n",
    "                                       'realign.@parameters'),\n",
    "                                      ]),\n",
    "                 (normalize, datasink, [('normalized_files',\n",
    "                                          'normalized.@files'),\n",
    "                                         ('normalized_image',\n",
    "                                          'normalized.@image'),\n",
    "                                         ('deformation_field',\n",
    "                                          'normalized.@field'),\n",
    "                                         ]),\n",
    "                 (smooth, datasink, [('smoothed_files', 'smoothed.@files')])\n",
    "                 ])"
   ]
  },
  {
   "cell_type": "code",
   "execution_count": null,
   "metadata": {
    "collapsed": true,
    "scrolled": false
   },
   "outputs": [],
   "source": [
    "preproc.run('MultiProc', plugin_args={'n_procs': 6})"
   ]
  }
 ],
 "metadata": {
  "anaconda-cloud": {},
  "kernelspec": {
   "display_name": "Python 2",
   "language": "python",
   "name": "python2"
  },
  "language_info": {
   "codemirror_mode": {
    "name": "ipython",
    "version": 2
   },
   "file_extension": ".py",
   "mimetype": "text/x-python",
   "name": "python",
   "nbconvert_exporter": "python",
   "pygments_lexer": "ipython2",
   "version": "2.7.13"
  }
 },
 "nbformat": 4,
 "nbformat_minor": 1
}
